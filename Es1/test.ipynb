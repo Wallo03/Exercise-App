{
 "cells": [
  {
   "cell_type": "code",
   "execution_count": 1,
   "metadata": {},
   "outputs": [
    {
     "name": "stdout",
     "output_type": "stream",
     "text": [
      "Sus Bro, troppo cinno\n"
     ]
    }
   ],
   "source": [
    "boy = 13\n",
    "patente = False\n",
    "\n",
    "if boy >= 18 and patente==True:\n",
    "    print(\"Daje vezz ce l'hai gia la patente\")\n",
    "elif boy >=18 and patente==False:\n",
    "    print(\"Daje oooh, sta patentina quando al prendiamo?\")\n",
    "else:\n",
    "    print(\"Sus Bro, troppo cinno\")"
   ]
  }
 ],
 "metadata": {
  "kernelspec": {
   "display_name": "Python 3",
   "language": "python",
   "name": "python3"
  },
  "language_info": {
   "codemirror_mode": {
    "name": "ipython",
    "version": 3
   },
   "file_extension": ".py",
   "mimetype": "text/x-python",
   "name": "python",
   "nbconvert_exporter": "python",
   "pygments_lexer": "ipython3",
   "version": "3.10.10"
  },
  "orig_nbformat": 4
 },
 "nbformat": 4,
 "nbformat_minor": 2
}
